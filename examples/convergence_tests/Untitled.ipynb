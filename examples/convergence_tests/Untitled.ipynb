{
 "cells": [
  {
   "cell_type": "code",
   "execution_count": 1,
   "id": "47dc8023",
   "metadata": {},
   "outputs": [
    {
     "name": "stderr",
     "output_type": "stream",
     "text": [
      "\u001b[32m\u001b[1mPrecompiling\u001b[22m\u001b[39m Jecco\n",
      "\u001b[36m\u001b[1m        Info\u001b[22m\u001b[39m Given Jecco was explicitly requested, output will be shown live \u001b[0K\n",
      "\u001b[0KWARNING: using HDF5.Filters in module AdS4_3_1 conflicts with an existing identifier.\n",
      "\u001b[0KWARNING: using HDF5.Filters in module AdS4_3_1_s conflicts with an existing identifier.\n",
      "\u001b[32m  ✓ \u001b[39mJecco\n",
      "  1 dependency successfully precompiled in 15 seconds. 201 already precompiled.\n",
      "  \u001b[33m1\u001b[39m dependency had output during precompilation:\u001b[33m\n",
      "┌ \u001b[39mJecco\u001b[33m\n",
      "│  \u001b[39m[Output was shown above]\u001b[33m\n",
      "└  \u001b[39m\n"
     ]
    },
    {
     "data": {
      "text/plain": [
       "false"
      ]
     },
     "execution_count": 1,
     "metadata": {},
     "output_type": "execute_result"
    }
   ],
   "source": [
    "# load the necessary modules\n",
    "\n",
    "using Jecco, Jecco.AdS4_3_1\n",
    "using PyPlot\n",
    "using HDF5\n",
    "using LaTeXStrings\n",
    "\n",
    "pygui(false)"
   ]
  },
  {
   "cell_type": "code",
   "execution_count": 7,
   "id": "7658841f",
   "metadata": {},
   "outputs": [
    {
     "data": {
      "text/plain": [
       "\"/home/giulio/University/PhD/Simulations/FullBBB_3p1_150_q32_Amp1_pertnfcxy100_L100000_ui12_1u96_newt10_Nx16_3p1\""
      ]
     },
     "execution_count": 7,
     "metadata": {},
     "output_type": "execute_result"
    }
   ],
   "source": [
    "# give the directories of the data\n",
    "# coarse resolution is dir16\n",
    "# medium resolution is dir32\n",
    "# fine resolution is dir64\n",
    "\n",
    "dir = \"/home/giulio/University/PhD/Simulations/FullBBB_3p1_150_q32_Amp1_pertnfcxy100_L100000_ui12_1u96_new\"\n",
    "\n",
    "dir16 = dir*\"t10_Nx16_3p1\"\n",
    "#dir32 = dir*\"t10_Nx32_3p1\"\n",
    "#dir64 = dir*\"t10_Nx64_3p1\"\n"
   ]
  },
  {
   "cell_type": "code",
   "execution_count": 8,
   "id": "24e83135",
   "metadata": {},
   "outputs": [
    {
     "ename": "LoadError",
     "evalue": "IOError: readdir(\"/home/giulio/University/PhD/Simulations/FullBBB_3p1_150_q32_Amp1_pertnfcxy100_L100000_ui12_1u96_newt10_Nx16_3p1\"): no such file or directory (ENOENT)",
     "output_type": "error",
     "traceback": [
      "IOError: readdir(\"/home/giulio/University/PhD/Simulations/FullBBB_3p1_150_q32_Amp1_pertnfcxy100_L100000_ui12_1u96_newt10_Nx16_3p1\"): no such file or directory (ENOENT)",
      "",
      "Stacktrace:",
      " [1] OpenPMDTimeSeries(foldername::String, prefix::String)",
      "   @ Jecco ~/University/PhD/JeccoGt2/src/input.jl:26",
      " [2] XiTimeSeries(foldername::String)",
      "   @ Jecco.AdS4_3_1 ~/University/PhD/JeccoGt2/src/AdS4_3_1/utils.jl:22",
      " [3] top-level scope",
      "   @ In[8]:1"
     ]
    }
   ],
   "source": [
    "# load the data\n",
    "# this numerical configuration has 1 inner and 3 outer grids\n",
    "# which are labelled as c1, c2, c3, c4 respectively\n",
    "\n",
    "xi_t_16   = XiTimeSeries(dir16);\n",
    "#xi_t_32   = XiTimeSeries(dir32);\n",
    "#xi_t_64   = XiTimeSeries(dir64);\n",
    "\n",
    "A_t_16_c1   = ConstrainedTimeSeries(dir16, :A, 1);\n",
    "A_t_32_c1   = ConstrainedTimeSeries(dir32, :A, 1);\n",
    "A_t_64_c1   = ConstrainedTimeSeries(dir64, :A, 1);\n",
    "\n",
    "A_t_16_c2   = ConstrainedTimeSeries(dir16, :A, 2);\n",
    "A_t_32_c2   = ConstrainedTimeSeries(dir32, :A, 2);\n",
    "A_t_64_c2   = ConstrainedTimeSeries(dir64, :A, 2);\n",
    "\n",
    "A_t_16_c3   = ConstrainedTimeSeries(dir16, :A, 3);\n",
    "A_t_32_c3   = ConstrainedTimeSeries(dir32, :A, 3);\n",
    "A_t_64_c3   = ConstrainedTimeSeries(dir64, :A, 3);\n",
    "\n",
    "A_t_16_c4   = ConstrainedTimeSeries(dir16, :A, 4);\n",
    "A_t_32_c4   = ConstrainedTimeSeries(dir32, :A, 4);\n",
    "A_t_64_c4   = ConstrainedTimeSeries(dir64, :A, 4);\n",
    "\n",
    "# load the time and spatial discretizations of the different resolutions\n",
    "\n",
    "tt_16, uu_16_c1, xx_16, yy_16    = get_coords(A_t_16_c1, :, :, :, :);\n",
    "tt_32, uu_32_c1, xx_32, yy_32    = get_coords(A_t_32_c1, :, :, :, :);\n",
    "tt_64, uu_64_c1, xx_64, yy_64    = get_coords(A_t_64_c1, :, :, :, :);\n",
    "\n",
    "tt_16, uu_16_c2, xx_16, yy_16    = get_coords(A_t_16_c2, :, :, :, :);\n",
    "tt_32, uu_32_c2, xx_32, yy_32    = get_coords(A_t_32_c2, :, :, :, :);\n",
    "tt_64, uu_64_c2, xx_64, yy_64    = get_coords(A_t_64_c2, :, :, :, :);\n",
    "\n",
    "tt_16, uu_16_c3, xx_16, yy_16    = get_coords(A_t_16_c3, :, :, :, :);\n",
    "tt_32, uu_32_c3, xx_32, yy_32    = get_coords(A_t_32_c3, :, :, :, :);\n",
    "tt_64, uu_64_c3, xx_64, yy_64    = get_coords(A_t_64_c3, :, :, :, :);\n",
    "\n",
    "tt_16, uu_16_c4, xx_16, yy_16    = get_coords(A_t_16_c4, :, :, :, :);\n",
    "tt_32, uu_32_c4, xx_32, yy_32    = get_coords(A_t_32_c4, :, :, :, :);\n",
    "tt_64, uu_64_c4, xx_64, yy_64    = get_coords(A_t_64_c4, :, :, :, :);"
   ]
  },
  {
   "cell_type": "code",
   "execution_count": 15,
   "id": "4fe3b718",
   "metadata": {},
   "outputs": [],
   "source": [
    "A_t_c1   = ConstrainedTimeSeries(dir, :A, 1);\n",
    "tt, uu_c1, xx, yy    = get_coords(A_t_c1, :, :, :, :);\n",
    "\n",
    "A_t_c2   = ConstrainedTimeSeries(dir, :A, 2);\n",
    "tt_16, uu_c2, xx_16, yy_16    = get_coords(A_t_c2, :, :, :, :);\n"
   ]
  },
  {
   "cell_type": "code",
   "execution_count": 17,
   "id": "28915cf5",
   "metadata": {},
   "outputs": [
    {
     "name": "stdout",
     "output_type": "stream",
     "text": [
      "[0.0, 0.002025351319275129, 0.00793732335844094, 0.017256963302735746, 0.02922924934990568, 0.042884258086335746, 0.05711574191366425, 0.07077075065009432, 0.08274303669726425, 0.09206267664155907, 0.09797464868072488, 0.1][0.10000000000000003, 0.10025423533646943, 0.10101666334326986, 0.10228645031656974, 0.10406220776295655, 0.10634199391773413, 0.10912331586821367, 0.1124031322796773, 0.11617785672103292, 0.12044336158652375, 0.12519498260920492, 0.13042752396125074, 0.13613526393551612, 0.14231196120213946, 0.14895086163334503, 0.1560447056889826, 0.16358573635472823, 0.17156570762426504, 0.17997589351617072, 0.1888070976156495, 0.198049663130677, 0.20769348345156058, 0.2177280132023685, 0.22814227977214369, 0.2389248953132928, 0.25006406919403046, 0.26154762089126166, 0.27336299330980535, 0.28549726651339336, 0.29793717185243124, 0.31066910647307155, 0.32367914819173493, 0.33695307071881375, 0.35047635921491027, 0.3642342261626008, 0.3782116275363693, 0.39239327925302736, 0.4067636738846361, 0.42130709761564955, 0.43600764742574233, 0.4508492484795285, 0.4658156717041578, 0.48089055153556903, 0.49605740381399366, 0.5112996438091426, 0.5266006043553656, 0.5419435540769517, 0.5573117156836435, 0.5726882843163568, 0.5880564459230485, 0.6033993956446346, 0.6187003561908576, 0.6339425961860066, 0.6491094484644311, 0.6641843282958424, 0.6791507515204718, 0.6939923525742578, 0.7086929023843507, 0.723236326115364, 0.7376067207469728, 0.751788372463631, 0.7657657738373994, 0.7795236407850898, 0.7930469292811864, 0.8063208518082652, 0.8193308935269286, 0.832062828147569, 0.8445027334866068, 0.8566370066901947, 0.8684523791087385, 0.8799359308059698, 0.8910751046867074, 0.9018577202278564, 0.9122719867976317, 0.9223065165484396, 0.9319503368693232, 0.9411929023843508, 0.9500241064838294, 0.9584342923757351, 0.9664142636452719, 0.9739552943110176, 0.9810491383666551, 0.9876880387978606, 0.993864736064484, 0.9995724760387494, 1.0048050173907952, 1.0095566384134764, 1.0138221432789671, 1.0175968677203229, 1.0208766841317864, 1.023658006082266, 1.0259377922370436, 1.0277135496834304, 1.0289833366567303, 1.0297457646635306, 1.03]"
     ]
    }
   ],
   "source": [
    "print(uu_c1)\n",
    "print(uu_c2)"
   ]
  },
  {
   "cell_type": "code",
   "execution_count": 6,
   "id": "f2ba0445",
   "metadata": {},
   "outputs": [
    {
     "name": "stdout",
     "output_type": "stream",
     "text": [
      "[0.41, 0.4114436783643687, 0.41574782046109104, 0.4228322482666548, 0.4325649922952942, 0.4447647499408149, 0.4592042628011086, 0.47561455007219555, 0.4936899191516714, 0.5130936601134971, 0.5334643179768417, 0.5544224259284759, 0.5755775740715239, 0.5965356820231582, 0.6169063398865028, 0.6363100808483285, 0.6543854499278043, 0.6707957371988913, 0.685235250059185, 0.6974350077047056, 0.7071677517333451, 0.7142521795389087, 0.7185563216356312, 0.72]"
     ]
    }
   ],
   "source": [
    "print(uu_16_c3)"
   ]
  },
  {
   "cell_type": "code",
   "execution_count": 7,
   "id": "46952126",
   "metadata": {},
   "outputs": [
    {
     "name": "stdout",
     "output_type": "stream",
     "text": [
      "[0.72, 0.7214436783643687, 0.7257478204610911, 0.7328322482666547, 0.7425649922952943, 0.7547647499408149, 0.7692042628011087, 0.7856145500721956, 0.8036899191516714, 0.8230936601134972, 0.8434643179768417, 0.864422425928476, 0.8855775740715239, 0.9065356820231583, 0.9269063398865028, 0.9463100808483286, 0.9643854499278044, 0.9807957371988913, 0.9952352500591851, 1.0074350077047056, 1.0171677517333453, 1.0242521795389088, 1.0285563216356313, 1.03]"
     ]
    }
   ],
   "source": [
    "print(uu_16_c4)"
   ]
  },
  {
   "cell_type": "code",
   "execution_count": null,
   "id": "264708e3",
   "metadata": {},
   "outputs": [],
   "source": []
  }
 ],
 "metadata": {
  "kernelspec": {
   "display_name": "Julia 1.10.4",
   "language": "julia",
   "name": "julia-1.10"
  },
  "language_info": {
   "file_extension": ".jl",
   "mimetype": "application/julia",
   "name": "julia",
   "version": "1.10.4"
  }
 },
 "nbformat": 4,
 "nbformat_minor": 5
}
