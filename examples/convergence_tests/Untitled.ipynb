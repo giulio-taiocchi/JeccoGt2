{
 "cells": [
  {
   "cell_type": "code",
   "execution_count": 1,
   "id": "47dc8023",
   "metadata": {},
   "outputs": [
    {
     "name": "stderr",
     "output_type": "stream",
     "text": [
      "\u001b[32m\u001b[1mPrecompiling\u001b[22m\u001b[39m Jecco\n",
      "\u001b[36m\u001b[1m        Info\u001b[22m\u001b[39m Given Jecco was explicitly requested, output will be shown live \u001b[0K\n",
      "\u001b[0KWARNING: using HDF5.Filters in module AdS4_3_1 conflicts with an existing identifier.\n",
      "\u001b[0KWARNING: using HDF5.Filters in module AdS4_3_1_s conflicts with an existing identifier.\n",
      "\u001b[32m  ✓ \u001b[39mJecco\n",
      "  1 dependency successfully precompiled in 8 seconds. 201 already precompiled.\n",
      "  \u001b[33m1\u001b[39m dependency had output during precompilation:\u001b[33m\n",
      "┌ \u001b[39mJecco\u001b[33m\n",
      "│  \u001b[39m[Output was shown above]\u001b[33m\n",
      "└  \u001b[39m\n"
     ]
    },
    {
     "data": {
      "text/plain": [
       "false"
      ]
     },
     "execution_count": 1,
     "metadata": {},
     "output_type": "execute_result"
    }
   ],
   "source": [
    "# load the necessary modules\n",
    "\n",
    "using Jecco, Jecco.AdS4_3_1\n",
    "using PyPlot\n",
    "using HDF5\n",
    "using LaTeXStrings\n",
    "\n",
    "pygui(false)"
   ]
  },
  {
   "cell_type": "code",
   "execution_count": 6,
   "id": "7658841f",
   "metadata": {},
   "outputs": [
    {
     "data": {
      "text/plain": [
       "\"/home/giulio/University/PhD/JeccoGt2/examples/convergence_tests/t10_Nx64_3p1\""
      ]
     },
     "execution_count": 6,
     "metadata": {},
     "output_type": "execute_result"
    }
   ],
   "source": [
    "# give the directories of the data\n",
    "# coarse resolution is dir16\n",
    "# medium resolution is dir32\n",
    "# fine resolution is dir64\n",
    "\n",
    "dir = \"/home/giulio/University/PhD/JeccoGt2/examples/convergence_tests/\"\n",
    "\n",
    "dir16 = dir*\"t10_Nx16_3p1\"\n",
    "dir32 = dir*\"t10_Nx32_3p1\"\n",
    "dir64 = dir*\"t10_Nx64_3p1\"\n"
   ]
  },
  {
   "cell_type": "code",
   "execution_count": 7,
   "id": "24e83135",
   "metadata": {},
   "outputs": [],
   "source": [
    "# load the data\n",
    "# this numerical configuration has 1 inner and 3 outer grids\n",
    "# which are labelled as c1, c2, c3, c4 respectively\n",
    "\n",
    "xi_t_16   = XiTimeSeries(dir16);\n",
    "xi_t_32   = XiTimeSeries(dir32);\n",
    "xi_t_64   = XiTimeSeries(dir64);\n",
    "\n",
    "A_t_16_c1   = ConstrainedTimeSeries(dir16, :A, 1);\n",
    "A_t_32_c1   = ConstrainedTimeSeries(dir32, :A, 1);\n",
    "A_t_64_c1   = ConstrainedTimeSeries(dir64, :A, 1);\n",
    "\n",
    "A_t_16_c2   = ConstrainedTimeSeries(dir16, :A, 2);\n",
    "A_t_32_c2   = ConstrainedTimeSeries(dir32, :A, 2);\n",
    "A_t_64_c2   = ConstrainedTimeSeries(dir64, :A, 2);\n",
    "\n",
    "A_t_16_c3   = ConstrainedTimeSeries(dir16, :A, 3);\n",
    "A_t_32_c3   = ConstrainedTimeSeries(dir32, :A, 3);\n",
    "A_t_64_c3   = ConstrainedTimeSeries(dir64, :A, 3);\n",
    "\n",
    "A_t_16_c4   = ConstrainedTimeSeries(dir16, :A, 4);\n",
    "A_t_32_c4   = ConstrainedTimeSeries(dir32, :A, 4);\n",
    "A_t_64_c4   = ConstrainedTimeSeries(dir64, :A, 4);\n",
    "\n",
    "# load the time and spatial discretizations of the different resolutions\n",
    "\n",
    "tt_16, uu_16_c1, xx_16, yy_16    = get_coords(A_t_16_c1, :, :, :, :);\n",
    "tt_32, uu_32_c1, xx_32, yy_32    = get_coords(A_t_32_c1, :, :, :, :);\n",
    "tt_64, uu_64_c1, xx_64, yy_64    = get_coords(A_t_64_c1, :, :, :, :);\n",
    "\n",
    "tt_16, uu_16_c2, xx_16, yy_16    = get_coords(A_t_16_c2, :, :, :, :);\n",
    "tt_32, uu_32_c2, xx_32, yy_32    = get_coords(A_t_32_c2, :, :, :, :);\n",
    "tt_64, uu_64_c2, xx_64, yy_64    = get_coords(A_t_64_c2, :, :, :, :);\n",
    "\n",
    "tt_16, uu_16_c3, xx_16, yy_16    = get_coords(A_t_16_c3, :, :, :, :);\n",
    "tt_32, uu_32_c3, xx_32, yy_32    = get_coords(A_t_32_c3, :, :, :, :);\n",
    "tt_64, uu_64_c3, xx_64, yy_64    = get_coords(A_t_64_c3, :, :, :, :);\n",
    "\n",
    "tt_16, uu_16_c4, xx_16, yy_16    = get_coords(A_t_16_c4, :, :, :, :);\n",
    "tt_32, uu_32_c4, xx_32, yy_32    = get_coords(A_t_32_c4, :, :, :, :);\n",
    "tt_64, uu_64_c4, xx_64, yy_64    = get_coords(A_t_64_c4, :, :, :, :);"
   ]
  },
  {
   "cell_type": "code",
   "execution_count": 8,
   "id": "4fe3b718",
   "metadata": {},
   "outputs": [
    {
     "name": "stdout",
     "output_type": "stream",
     "text": [
      "[0.0, 0.10181818181818181, 0.2036363636363635, 0.30545454545454565, 0.4072727272727281, 0.5090909090909106, 0.6109090909090931, 0.7127272727272755, 0.814545454545458, 0.9163636363636405, 1.018181818181823, 1.1200000000000054, 1.221818181818188, 1.3236363636363704, 1.4254545454545529, 1.5272727272727353, 1.6290909090909178, 1.7309090909091003, 1.8327272727272828, 1.9345454545454652, 2.0363636363636455, 2.1381818181818217, 2.239999999999998, 2.3418181818181742, 2.4436363636363505, 2.5454545454545268, 2.647272727272703, 2.7490909090908793, 2.8509090909090555, 2.952727272727232, 3.054545454545408, 3.1563636363635843, 3.2581818181817606, 3.359999999999937, 3.461818181818113, 3.5636363636362893, 3.6654545454544656, 3.767272727272642, 3.869090909090818, 3.9709090909089944, 4.072727272727179, 4.174545454545368, 4.276363636363556, 4.378181818181745, 4.479999999999934, 4.5818181818181225, 4.683636363636311, 4.7854545454545, 4.887272727272689, 4.989090909090877, 5.090909090909066, 5.192727272727255, 5.294545454545443, 5.396363636363632, 5.498181818181821, 5.600000000000009, 5.701818181818198, 5.803636363636387, 5.9054545454545755, 6.007272727272764, 6.109090909090953, 6.210909090909142, 6.31272727272733, 6.414545454545519, 6.516363636363708, 6.618181818181896, 6.720000000000085, 6.821818181818274, 6.923636363636462, 7.025454545454651, 7.12727272727284, 7.2290909090910285, 7.330909090909217, 7.432727272727406, 7.5345454545455945, 7.636363636363783, 7.738181818181972, 7.840000000000161, 7.941818181818349, 8.043636363636537, 8.145454545454726, 8.247272727272914, 8.349090909091103, 8.450909090909292, 8.55272727272748, 8.65454545454567, 8.756363636363858, 8.858181818182047, 8.960000000000235, 9.061818181818424, 9.163636363636613, 9.265454545454801, 9.36727272727299, 9.469090909091179, 9.570909090909367, 9.672727272727556, 9.774545454545745, 9.876363636363934, 9.978181818182122]"
     ]
    }
   ],
   "source": [
    "print(tt_16)"
   ]
  },
  {
   "cell_type": "code",
   "execution_count": 5,
   "id": "28915cf5",
   "metadata": {},
   "outputs": [
    {
     "name": "stdout",
     "output_type": "stream",
     "text": [
      "[0.09999999999999998, 0.10144367836436871, 0.10574782046109107, 0.11283224826665475, 0.12256499229529424, 0.1347647499408149, 0.1492042628011086, 0.1656145500721956, 0.1836899191516714, 0.2030936601134971, 0.22346431797684174, 0.244422425928476, 0.265577574071524, 0.2865356820231582, 0.30690633988650284, 0.3263100808483286, 0.3443854499278044, 0.36079573719889135, 0.37523525005918507, 0.38743500770470574, 0.3971677517333452, 0.4042521795389089, 0.40855632163563127, 0.41000000000000003]"
     ]
    }
   ],
   "source": [
    "print(uu_16_c2)"
   ]
  },
  {
   "cell_type": "code",
   "execution_count": 6,
   "id": "f2ba0445",
   "metadata": {},
   "outputs": [
    {
     "name": "stdout",
     "output_type": "stream",
     "text": [
      "[0.41, 0.4114436783643687, 0.41574782046109104, 0.4228322482666548, 0.4325649922952942, 0.4447647499408149, 0.4592042628011086, 0.47561455007219555, 0.4936899191516714, 0.5130936601134971, 0.5334643179768417, 0.5544224259284759, 0.5755775740715239, 0.5965356820231582, 0.6169063398865028, 0.6363100808483285, 0.6543854499278043, 0.6707957371988913, 0.685235250059185, 0.6974350077047056, 0.7071677517333451, 0.7142521795389087, 0.7185563216356312, 0.72]"
     ]
    }
   ],
   "source": [
    "print(uu_16_c3)"
   ]
  },
  {
   "cell_type": "code",
   "execution_count": 7,
   "id": "46952126",
   "metadata": {},
   "outputs": [
    {
     "name": "stdout",
     "output_type": "stream",
     "text": [
      "[0.72, 0.7214436783643687, 0.7257478204610911, 0.7328322482666547, 0.7425649922952943, 0.7547647499408149, 0.7692042628011087, 0.7856145500721956, 0.8036899191516714, 0.8230936601134972, 0.8434643179768417, 0.864422425928476, 0.8855775740715239, 0.9065356820231583, 0.9269063398865028, 0.9463100808483286, 0.9643854499278044, 0.9807957371988913, 0.9952352500591851, 1.0074350077047056, 1.0171677517333453, 1.0242521795389088, 1.0285563216356313, 1.03]"
     ]
    }
   ],
   "source": [
    "print(uu_16_c4)"
   ]
  },
  {
   "cell_type": "code",
   "execution_count": null,
   "id": "264708e3",
   "metadata": {},
   "outputs": [],
   "source": []
  }
 ],
 "metadata": {
  "kernelspec": {
   "display_name": "Julia 1.10.4",
   "language": "julia",
   "name": "julia-1.10"
  },
  "language_info": {
   "file_extension": ".jl",
   "mimetype": "application/julia",
   "name": "julia",
   "version": "1.10.4"
  }
 },
 "nbformat": 4,
 "nbformat_minor": 5
}
